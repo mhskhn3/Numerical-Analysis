{
 "cells": [
  {
   "cell_type": "code",
   "execution_count": 13,
   "metadata": {},
   "outputs": [
    {
     "name": "stdout",
     "output_type": "stream",
     "text": [
      "The value of the root is 1.6006\n"
     ]
    }
   ],
   "source": [
    "import math\n",
    "\n",
    "def f(x):\n",
    "    # Define the function f(x)\n",
    "    return 2*x**3 - 2*x - 5\n",
    "\n",
    "def Muller(a, b, c):\n",
    "    # Perform Muller's method to find the root\n",
    "    for _ in range(10000):\n",
    "        # Evaluate function values at three points a, b, and c\n",
    "        f1, f2, f3 = f(a), f(b), f(c)\n",
    "        \n",
    "        # Calculate differences between function values\n",
    "        d1, d2 = f1 - f3, f2 - f3\n",
    "        \n",
    "        # Calculate differences between x values\n",
    "        h1, h2 = a - c, b - c\n",
    "        \n",
    "        # Calculate coefficients for quadratic interpolation\n",
    "        a0 = f3\n",
    "        a1 = (d2 * h1**2 - d1 * h2**2) / (h1 * h2 * (h1 - h2))\n",
    "        a2 = (d1 * h2 - d2 * h1) / (h1 * h2 * (h1 - h2))\n",
    "        \n",
    "        # Calculate square root term\n",
    "        sqrt_term = math.sqrt(a1**2 - 4 * a0 * a2)\n",
    "        \n",
    "        # Calculate the two possible solutions x\n",
    "        x = (-2 * a0) / (a1 + abs(sqrt_term))\n",
    "        y = (-2 * a0) / (a1 - abs(sqrt_term))\n",
    "        \n",
    "        # Select the root that is closer to c\n",
    "        res = x + c if x >= y else y + c\n",
    "        \n",
    "        # Check if the result is close to c (up to two decimal places)\n",
    "        if math.isclose(res, c, rel_tol=1e-2):\n",
    "            return round(res, 4)\n",
    "        \n",
    "        # Update the values of a, b, c for the next iteration\n",
    "        a, b, c = b, c, res\n",
    "    \n",
    "    # If no root is found within the maximum iterations, return None\n",
    "    return None\n",
    "\n",
    "# Driver Code\n",
    "a = 0\n",
    "b = 1\n",
    "c = 2\n",
    "\n",
    "# Call Muller's method to find the root\n",
    "root = Muller(a, b, c)\n",
    "\n",
    "# Check if a root is found and print the result\n",
    "if root:\n",
    "    print(\"The value of the root is\", root)\n",
    "else:\n",
    "    print(\"Root cannot be found using Muller's method\")\n"
   ]
  }
 ],
 "metadata": {
  "kernelspec": {
   "display_name": "Python 3",
   "language": "python",
   "name": "python3"
  },
  "language_info": {
   "codemirror_mode": {
    "name": "ipython",
    "version": 3
   },
   "file_extension": ".py",
   "mimetype": "text/x-python",
   "name": "python",
   "nbconvert_exporter": "python",
   "pygments_lexer": "ipython3",
   "version": "3.11.3"
  },
  "orig_nbformat": 4
 },
 "nbformat": 4,
 "nbformat_minor": 2
}
