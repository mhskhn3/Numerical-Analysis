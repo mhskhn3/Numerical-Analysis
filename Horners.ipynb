{
 "cells": [
  {
   "cell_type": "code",
   "execution_count": 1,
   "metadata": {},
   "outputs": [],
   "source": [
    "from sympy import *\n",
    "from sympy.abc import x\n",
    "import mathcube.stepbystep as sbs\n"
   ]
  },
  {
   "cell_type": "code",
   "execution_count": 2,
   "metadata": {},
   "outputs": [
    {
     "data": {
      "text/latex": [
       "$\\displaystyle \\operatorname{Poly}{\\left( 2 x^{3} - 6 x^{2} + 2 x - 1, x, domain=\\mathbb{Z} \\right)}$"
      ],
      "text/plain": [
       "Poly(2*x**3 - 6*x**2 + 2*x - 1, x, domain='ZZ')"
      ]
     },
     "execution_count": 2,
     "metadata": {},
     "output_type": "execute_result"
    }
   ],
   "source": [
    "p=poly(2*x**3 - 6*x**2 + 2*x - 1, x)\n",
    "p"
   ]
  },
  {
   "cell_type": "code",
   "execution_count": 3,
   "metadata": {},
   "outputs": [
    {
     "data": {
      "text/html": [
       "<table>\n",
       "<tr>\n",
       "<td style=\"border-right: 1px solid #000;\"> $ $ </td>\n",
       "<td style=\"border-bottom: 1px solid #000;\"> $2 $ </td>\n",
       "<td style=\"border-bottom: 1px solid #000;\"> $-6 $ </td>\n",
       "<td style=\"border-bottom: 1px solid #000;\"> $2 $ </td>\n",
       "<td style=\"border-bottom: 1px solid #000;\"> $-1 $ </td>\n",
       "</tr>\n",
       "<tr>\n",
       "<td style=\"border-right: 1px solid #000;\"> $x=3 $ </td>\n",
       "<td style=\"\"> $0 $ </td>\n",
       "<td style=\"\"> $ $ </td>\n",
       "<td style=\"\"> $ $ </td>\n",
       "<td style=\"\"> $ $ </td>\n",
       "</tr>\n",
       "<tr>\n",
       "<td style=\"border-right: 1px solid #000;\"> $ $ </td>\n",
       "<td style=\"\"> $2 $ </td>\n",
       "<td style=\"\"> $ $ </td>\n",
       "<td style=\"\"> $ $ </td>\n",
       "<td style=\"\"> $ $ </td>\n",
       "</tr>\n",
       "</table>\n"
      ],
      "text/plain": [
       "<mathcube.stepbystep.polynomials.HornerMethod at 0x298b0ad5f90>"
      ]
     },
     "execution_count": 3,
     "metadata": {},
     "output_type": "execute_result"
    }
   ],
   "source": [
    "x0=3\n",
    "t=sbs.HornerMethod(p,x0)\n",
    "t\n",
    "t.step()\n"
   ]
  },
  {
   "cell_type": "code",
   "execution_count": 15,
   "metadata": {},
   "outputs": [
    {
     "data": {
      "text/html": [
       "<table>\n",
       "<tr>\n",
       "<td style=\"border-right: 1px solid #000;\"> $ $ </td>\n",
       "<td style=\"border-bottom: 1px solid #000;\"> $2 $ </td>\n",
       "<td style=\"border-bottom: 1px solid #000;\"> $-6 $ </td>\n",
       "<td style=\"border-bottom: 1px solid #000;\"> $2 $ </td>\n",
       "<td style=\"border-bottom: 1px solid #000;\"> $-1 $ </td>\n",
       "</tr>\n",
       "<tr>\n",
       "<td style=\"border-right: 1px solid #000;\"> $x=3 $ </td>\n",
       "<td style=\"\"> $0 $ </td>\n",
       "<td style=\"\"> $6 $ </td>\n",
       "<td style=\"\"> $ $ </td>\n",
       "<td style=\"\"> $ $ </td>\n",
       "</tr>\n",
       "<tr>\n",
       "<td style=\"border-right: 1px solid #000;\"> $ $ </td>\n",
       "<td style=\"\"> $2 $ </td>\n",
       "<td style=\"\"> $ $ </td>\n",
       "<td style=\"\"> $ $ </td>\n",
       "<td style=\"\"> $ $ </td>\n",
       "</tr>\n",
       "</table>\n"
      ],
      "text/plain": [
       "<mathcube.stepbystep.polynomials.HornerMethod at 0x29363f7c250>"
      ]
     },
     "execution_count": 15,
     "metadata": {},
     "output_type": "execute_result"
    }
   ],
   "source": [
    "t.step()"
   ]
  },
  {
   "cell_type": "code",
   "execution_count": 16,
   "metadata": {},
   "outputs": [
    {
     "data": {
      "text/latex": [
       "$\\displaystyle 5$"
      ],
      "text/plain": [
       "5"
      ]
     },
     "execution_count": 16,
     "metadata": {},
     "output_type": "execute_result"
    }
   ],
   "source": [
    "p.subs(x,3)"
   ]
  }
 ],
 "metadata": {
  "kernelspec": {
   "display_name": "Python 3",
   "language": "python",
   "name": "python3"
  },
  "language_info": {
   "codemirror_mode": {
    "name": "ipython",
    "version": 3
   },
   "file_extension": ".py",
   "mimetype": "text/x-python",
   "name": "python",
   "nbconvert_exporter": "python",
   "pygments_lexer": "ipython3",
   "version": "3.11.3"
  },
  "orig_nbformat": 4
 },
 "nbformat": 4,
 "nbformat_minor": 2
}
