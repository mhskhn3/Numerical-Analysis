{
 "cells": [
  {
   "cell_type": "code",
   "execution_count": 1,
   "metadata": {},
   "outputs": [
    {
     "name": "stdout",
     "output_type": "stream",
     "text": [
      "*** FIXED POINT ITERATION ***\n",
      "Iteration-1, x1 = 1.000000 and f(x1) = 0.000000\n",
      "\n",
      "Required root is: 1.00000000\n"
     ]
    }
   ],
   "source": [
    "import math\n",
    "\n",
    "def f(x):\n",
    "    return x**2 - 2*x + 1\n",
    "\n",
    "def g(x):\n",
    "    return 1/math.sqrt(1+x)\n",
    "\n",
    "def fixedPointIteration(x0, e, N):\n",
    "    print('*** FIXED POINT ITERATION ***')\n",
    "    step = 1\n",
    "    \n",
    "    while step <= N:\n",
    "        x1 = g(x0)\n",
    "        print(f'Iteration-{step}, x1 = {x1:.6f} and f(x1) = {f(x1):.6f}')\n",
    "        x0 = x1\n",
    "        step += 1\n",
    "        \n",
    "        if abs(f(x1)) <= e:\n",
    "            print(f'\\nRequired root is: {x1:.8f}')\n",
    "            return\n",
    "    \n",
    "    print('\\nNot Convergent.')\n",
    "\n",
    "x0 = float(input('Enter Guess: '))\n",
    "e = float(input('Tolerable Error: '))\n",
    "N = int(input('Maximum Step: '))\n",
    "\n",
    "fixedPointIteration(x0, e, N)\n"
   ]
  }
 ],
 "metadata": {
  "kernelspec": {
   "display_name": "Python 3",
   "language": "python",
   "name": "python3"
  },
  "language_info": {
   "codemirror_mode": {
    "name": "ipython",
    "version": 3
   },
   "file_extension": ".py",
   "mimetype": "text/x-python",
   "name": "python",
   "nbconvert_exporter": "python",
   "pygments_lexer": "ipython3",
   "version": "3.11.3"
  },
  "orig_nbformat": 4
 },
 "nbformat": 4,
 "nbformat_minor": 2
}
